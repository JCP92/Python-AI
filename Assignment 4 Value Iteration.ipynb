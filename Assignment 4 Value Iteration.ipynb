{
 "cells": [
  {
   "cell_type": "code",
   "execution_count": 1,
   "metadata": {},
   "outputs": [
    {
     "name": "stdout",
     "output_type": "stream",
     "text": [
      "file closed\n"
     ]
    }
   ],
   "source": [
    "#The following variable must be used in the You can change the location values for testing purposes\n",
    "stoneLocation=[2, 8]  #[row, column]\n",
    "stone = 9.0\n",
    "positiveTerminalLocation = [0,9,2]  #[row, column, utility value]\n",
    "nagativeTerminalLocation = [1,9, -2]  #[row, column, utility value]\n",
    "contQueue = []\n",
    "iteration=20\n",
    "noise=0.15\n",
    "noiseDir = noise/2\n",
    "primeDir = 1 - noise\n",
    "discount=0.91\n",
    "\n",
    "import copy\n",
    "import numpy as np\n",
    "from enum import Enum\n",
    "size = 10\n",
    "solutions = []\n",
    "locations = []\n",
    "\n",
    "        \n",
    "class ValueIteration:\n",
    "    def __init__(self):\n",
    "        self.board = self.setBoard(0.00)\n",
    "        self.direction = self.setBoard(\"N\")\n",
    "        self.terminalLoaction()\n",
    "        curlocation = self.board[0][9]\n",
    "    \n",
    "    def setBoard(self, value):\n",
    "        gBoard = [value]*size\n",
    "        for x in range(size):\n",
    "            gBoard[x] = [value]*size\n",
    "        return gBoard\n",
    "\n",
    "    def terminalLoaction(self):\n",
    "        self.board[positiveTerminalLocation[0]][positiveTerminalLocation[1]] = positiveTerminalLocation[2]\n",
    "        self.board[nagativeTerminalLocation[0]][nagativeTerminalLocation[1]] = nagativeTerminalLocation[2]\n",
    "        self.board[stoneLocation[0]][stoneLocation[1]] = stone\n",
    "\n",
    "    def printBoard(self):\n",
    "        print(\"---------------------------------------------------------------------------------\")\n",
    "        for n in range(size):\n",
    "            print(\"| %.2f%s | %.2f%s | %.2f%s | %.2f%s | %.2f%s | %.2f%s | %.2f%s | %.2f%s | %.2f%s | %.2f%s |\" % (self.board[n][0], self.direction[n][0], self.board[n][1], self.direction[n][1], self.board[n][2], self.direction[n][2], self.board[n][3], self.direction[n][3], self.board[n][4], self.direction[n][4], self.board[n][5], self.direction[n][5], self.board[n][6], self.direction[n][6], self.board[n][7], self.direction[n][7], self.board[n][8], self.direction[n][8], self.board[n][9], self.direction[n][9]))\n",
    "            print(\"---------------------------------------------------------------------------------\")\n",
    "            \n",
    "    def isWall(self, n, m):\n",
    "        if ((n < 0) or (n > size-1) or (m < 0) or (m > size-1) or (self.board[n][m] == stone)):\n",
    "            return True\n",
    "        else: return False\n",
    "    def calNorth(self, n, m):\n",
    "        if(self.isWall(n-1, m) == False): #check North\n",
    "            val = primeDir*self.board[n-1][m]\n",
    "        else: \n",
    "            val = primeDir*self.board[n][m]\n",
    "        if(self.isWall(n, m+1) == False): #check east\n",
    "            val += noiseDir*self.board[n][m+1]\n",
    "        else: \n",
    "            val += noiseDir*self.board[n][m]\n",
    "        if(self.isWall(n, m-1) == False): #check west\n",
    "            return (val + noiseDir*self.board[n][m-1])\n",
    "        else: return(val + noiseDir*self.board[n][m])\n",
    "    def calSouth(self, n, m):\n",
    "        if(self.isWall(n+1, m) == False): #check south\n",
    "            val = primeDir*self.board[n+1][m]\n",
    "        else: \n",
    "            val = primeDir*self.board[n][m]\n",
    "        if(self.isWall(n, m+1) == False): #check east\n",
    "            val = val + noiseDir*self.board[n][m+1]\n",
    "        else: \n",
    "            val += noiseDir*self.board[n][m]\n",
    "        if(self.isWall(n, m-1) == False): #check west\n",
    "            return (val + noiseDir*self.board[n][m-1])\n",
    "        else: return(val + noiseDir*self.board[n][m])\n",
    "    def calEast(self, n, m):\n",
    "        if(self.isWall(n, m+1) == False): #check east\n",
    "            val = primeDir*self.board[n][m+1]\n",
    "        else: \n",
    "            val = primeDir*self.board[n][m]\n",
    "        if(self.isWall(n+1, m) == False): #check north\n",
    "            val += noiseDir*self.board[n+1][m]\n",
    "        else: \n",
    "            val += noiseDir*self.board[n][m]\n",
    "        if(self.isWall(n-1, m) == False): #check south\n",
    "            return (val + noiseDir*self.board[n-1][m])\n",
    "        else: return(val + noiseDir*self.board[n][m])\n",
    "    def calWest(self, n, m):\n",
    "        if(self.isWall(n, m-1) == False): #check west\n",
    "            val = primeDir*self.board[n][m-1]\n",
    "        else: \n",
    "            val = primeDir*self.board[n][m]\n",
    "        if(self.isWall(n+1, m) == False): #check north\n",
    "            val += noiseDir*self.board[n+1][m]\n",
    "        else: \n",
    "            val += noiseDir*self.board[n][m]\n",
    "        if(self.isWall(n-1, m) == False): #check south\n",
    "            return (val + noiseDir*self.board[n-1][m])\n",
    "        else: return(val + noiseDir*self.board[n][m])\n",
    "            \n",
    "    def getMax(self, n, m):\n",
    "        an = [0]*4\n",
    "        an[0] = (self.calNorth(n, m))\n",
    "        an[1] = (self.calSouth(n, m))\n",
    "        an[2] = (self.calEast(n, m))\n",
    "        an[3] = (self.calWest(n, m))\n",
    "        maxVal = max(an)\n",
    "        if maxVal == an[0]:\n",
    "            del an[:]\n",
    "            return \"N\", maxVal\n",
    "        if maxVal == an[1]:\n",
    "            del an[:]\n",
    "            return \"S\", maxVal\n",
    "        if maxVal == an[2]:\n",
    "            del an[:]\n",
    "            return \"E\", maxVal\n",
    "        if maxVal == an[3]:\n",
    "            del an[:]\n",
    "            return \"W\", maxVal\n",
    "    \n",
    "    def getProbability(self, n, m):\n",
    "        direction, maxVal = self.getMax(n, m)\n",
    "        return direction, discount*maxVal\n",
    "    \n",
    "    def getAdj(self, ar, n, m):\n",
    "        adj = []\n",
    "        if (self.isWall(n, m+1) == False):\n",
    "            adj.append(\"N\")\n",
    "        if (self.isWall(n, m-1) == False):\n",
    "            adj.append(\"S\")\n",
    "        if (self.isWall(n+1, m) == False):\n",
    "            adj.append(\"E\")\n",
    "        if (self.isWall(n-1, m) == False):\n",
    "            adj.append(\"W\")\n",
    "        return adj\n",
    "def pB(board):\n",
    "    print(\"-----------------------------------------------------------------------\")\n",
    "    for n in range(size):\n",
    "            print(\"| %.2f | %.2f | %.2f | %.2f | %.2f | %.2f | %.2f | %.2f | %.2f | %.2f |\" % (board[n][0], board[n][1], board[n][2], board[n][3], board[n][4], board[n][5], board[n][6], board[n][7], board[n][8], board[n][9]))\n",
    "            print(\"-----------------------------------------------------------------------\")\n",
    "\n",
    "\n",
    "\n",
    "def print_result( result ):\n",
    "    file = open(\"result.txt\", \"w\")\n",
    "    test = [\"-\"]*9\n",
    "    m = ValueIteration()\n",
    "    tempBoard = copy.deepcopy(m.board)\n",
    "    tempDirection = copy.deepcopy(m.direction)\n",
    "    file.write(\"Iteration: 0\\n\")\n",
    "    for n in range(size):\n",
    "            file.write(\"| %.2f%s | %.2f%s | %.2f%s | %.2f%s | %.2f%s | %.2f%s | %.2f%s | %.2f%s | %.2f%s | %.2f%s |\\n\" % (m.board[n][0], m.direction[n][0], m.board[n][1], m.direction[n][1], m.board[n][2], m.direction[n][2], m.board[n][3], m.direction[n][3], m.board[n][4], m.direction[n][4], m.board[n][5], m.direction[n][5], m.board[n][6], m.direction[n][6], m.board[n][7], m.direction[n][7], m.board[n][8], m.direction[n][8], m.board[n][9], m.direction[n][9]))\n",
    "            file.write(\"---------------------------------------------------------------------------------\\n\")\n",
    "    \n",
    "    for x in range(20):\n",
    "        for row in range(size):\n",
    "            for col in range(size):\n",
    "                if (tempBoard[row][col] == nagativeTerminalLocation[2] or tempBoard[row][col] == positiveTerminalLocation[2] or tempBoard[row][col] == 9.0 ):\n",
    "                    tempBoard[row][col] = tempBoard[row][col]\n",
    "                else: \n",
    "                    tempDirection[row][col], tempBoard[row][col] = m.getProbability(row, col)\n",
    "        m.direction = copy.deepcopy(tempDirection)\n",
    "        m.board = copy.deepcopy(tempBoard)\n",
    "        file.write(\"Iteration: %s\\n\" % str(x+1))\n",
    "        file.write(\"---------------------------------------------------------------------------------\\n\")\n",
    "        for n in range(size):\n",
    "            file.write(\"| %.2f%s | %.2f%s | %.2f%s | %.2f%s | %.2f%s | %.2f%s | %.2f%s | %.2f%s | %.2f%s | %.2f%s |\\n\" % (m.board[n][0], m.direction[n][0], m.board[n][1], m.direction[n][1], m.board[n][2], m.direction[n][2], m.board[n][3], m.direction[n][3], m.board[n][4], m.direction[n][4], m.board[n][5], m.direction[n][5], m.board[n][6], m.direction[n][6], m.board[n][7], m.direction[n][7], m.board[n][8], m.direction[n][8], m.board[n][9], m.direction[n][9]))\n",
    "            file.write(\"---------------------------------------------------------------------------------\\n\")\n",
    "    file.close()\n",
    "    print(\"file closed\")\n",
    "result = 0\n",
    "print_result(result)"
   ]
  },
  {
   "cell_type": "markdown",
   "metadata": {},
   "source": [
    "### Assignment 4, Value Iteration"
   ]
  },
  {
   "cell_type": "markdown",
   "metadata": {},
   "source": [
    "Your homework must be implemented in this Notebook file. \n",
    "You can add as many cells as you want. However, you are not allowed to touch the code below the line \"=============\".\n"
   ]
  },
  {
   "cell_type": "code",
   "execution_count": null,
   "metadata": {
    "collapsed": true
   },
   "outputs": [],
   "source": []
  },
  {
   "cell_type": "code",
   "execution_count": null,
   "metadata": {
    "collapsed": true
   },
   "outputs": [],
   "source": []
  },
  {
   "cell_type": "code",
   "execution_count": null,
   "metadata": {
    "collapsed": true
   },
   "outputs": [],
   "source": []
  },
  {
   "cell_type": "code",
   "execution_count": null,
   "metadata": {
    "collapsed": true
   },
   "outputs": [],
   "source": []
  },
  {
   "cell_type": "code",
   "execution_count": null,
   "metadata": {
    "collapsed": true
   },
   "outputs": [],
   "source": []
  },
  {
   "cell_type": "markdown",
   "metadata": {},
   "source": [
    "You can insert as many cells as you want above\n",
    "You are not Allowed to modify the code below this line.\n",
    "==============================="
   ]
  },
  {
   "cell_type": "code",
   "execution_count": null,
   "metadata": {
    "collapsed": true
   },
   "outputs": [],
   "source": [
    "#you need to implement print_result function to print out the result according to the required format\n",
    "start()"
   ]
  },
  {
   "cell_type": "markdown",
   "metadata": {},
   "source": [
    "#sampel output of one status\n",
    "0.00(n),0.00(n),0.00(n),0.00(n),0.00(n),0.00(n),0.00(n),0.00(n),0.00(n),0.00(n)\n",
    "0.00(n),0.00(n),0.00(n),0.00(n),0.00(n),0.00(n),0.00(n),0.00(n),0.00(n),0.00(n)\n",
    "0.00(n),0.00(n),0.00(n),0.00(n),0.00(n),0.00(n),2.00(n),0.00(n),0.00(n),0.00(n)\n",
    "0.00(n),0.00(n),(STONE),0.00(n),0.00(n),0.00(n),0.00(n),0.00(n),0.00(n),0.00(n)\n",
    "0.00(n),0.00(n),0.00(n),0.00(n),0.00(n),0.00(n),-2.00(n),0.00(n),0.00(n),0.00(n)\n",
    "0.00(n),0.00(n),0.00(n),0.00(n),0.00(n),0.00(n),0.00(n),0.00(n),0.00(n),0.00(n)\n",
    "0.00(n),0.00(n),0.00(n),0.00(n),0.00(n),0.00(n),0.00(n),0.00(n),0.00(n),0.00(n)\n",
    "0.00(n),0.00(n),0.00(n),0.00(n),0.00(n),0.00(n),0.00(n),0.00(n),0.00(n),0.00(n)\n",
    "0.00(n),0.00(n),0.00(n),0.00(n),0.00(n),0.00(n),0.00(n),0.00(n),0.00(n),0.00(n)\n",
    "0.00(n),0.00(n),0.00(n),0.00(n),0.00(n),0.00(n),0.00(n),0.00(n),0.00(n),0.00(n)\n",
    "\n"
   ]
  },
  {
   "cell_type": "code",
   "execution_count": null,
   "metadata": {
    "collapsed": true
   },
   "outputs": [],
   "source": []
  }
 ],
 "metadata": {
  "anaconda-cloud": {},
  "kernelspec": {
   "display_name": "Python 3",
   "language": "python",
   "name": "python3"
  },
  "language_info": {
   "codemirror_mode": {
    "name": "ipython",
    "version": 3
   },
   "file_extension": ".py",
   "mimetype": "text/x-python",
   "name": "python",
   "nbconvert_exporter": "python",
   "pygments_lexer": "ipython3",
   "version": "3.6.3"
  }
 },
 "nbformat": 4,
 "nbformat_minor": 1
}
